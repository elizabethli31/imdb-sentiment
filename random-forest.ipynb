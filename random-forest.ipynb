{
 "cells": [
  {
   "cell_type": "code",
   "execution_count": 1,
   "metadata": {},
   "outputs": [],
   "source": [
    "import pandas as pd\n",
    "from sklearn.ensemble import RandomForestClassifier\n",
    "from sklearn.model_selection import RandomizedSearchCV\n",
    "from sklearn.metrics import classification_report, confusion_matrix\n",
    "import matplotlib.pyplot as plt\n",
    "import seaborn as sns\n",
    "from scipy.io import mmread"
   ]
  },
  {
   "cell_type": "code",
   "execution_count": 2,
   "metadata": {},
   "outputs": [],
   "source": [
    "test_csv = pd.read_csv('data/Test.csv')\n",
    "train_csv = pd.read_csv('data/Train.csv')\n",
    "\n",
    "train_y = train_csv['label']\n",
    "test_y = test_csv['label']\n",
    "\n",
    "x_train_tf = mmread('data/x_train_tf.mtx')\n",
    "x_test_tf = mmread('data/x_test_tf.mtx')"
   ]
  },
  {
   "cell_type": "code",
   "execution_count": 4,
   "metadata": {},
   "outputs": [],
   "source": [
    "random_forest = RandomForestClassifier()\n",
    "n_estimators = [10, 50, 100, 500, 1000]\n",
    "max_depth = [10, 20, 40, 50, 60, 70]\n",
    "min_samples_split = [2, 5, 10]\n",
    "min_samples_leaf = [1, 2, 4]\n",
    "bootstrap = [True, False]\n",
    "\n",
    "hyperparameters = dict(\n",
    "    n_estimators=n_estimators,\n",
    "    max_depth=max_depth,\n",
    "    min_samples_split=min_samples_split,\n",
    "    min_samples_leaf=min_samples_leaf,\n",
    "    bootstrap=bootstrap\n",
    ")"
   ]
  },
  {
   "cell_type": "code",
   "execution_count": 5,
   "metadata": {},
   "outputs": [
    {
     "name": "stdout",
     "output_type": "stream",
     "text": [
      "Fitting 5 folds for each of 10 candidates, totalling 50 fits\n",
      "[CV] END bootstrap=True, max_depth=10, min_samples_leaf=2, min_samples_split=2, n_estimators=100; total time=  11.1s\n",
      "[CV] END bootstrap=True, max_depth=10, min_samples_leaf=2, min_samples_split=2, n_estimators=100; total time=  11.2s\n",
      "[CV] END bootstrap=True, max_depth=10, min_samples_leaf=2, min_samples_split=2, n_estimators=100; total time=  11.2s\n",
      "[CV] END bootstrap=True, max_depth=10, min_samples_leaf=2, min_samples_split=2, n_estimators=100; total time=  11.2s\n",
      "[CV] END bootstrap=True, max_depth=10, min_samples_leaf=2, min_samples_split=2, n_estimators=100; total time=  11.3s\n",
      "[CV] END bootstrap=False, max_depth=60, min_samples_leaf=1, min_samples_split=5, n_estimators=50; total time= 1.6min\n",
      "[CV] END bootstrap=False, max_depth=60, min_samples_leaf=1, min_samples_split=5, n_estimators=50; total time= 1.6min\n",
      "[CV] END bootstrap=False, max_depth=60, min_samples_leaf=1, min_samples_split=5, n_estimators=50; total time= 1.6min\n",
      "[CV] END bootstrap=False, max_depth=10, min_samples_leaf=2, min_samples_split=5, n_estimators=500; total time= 1.5min\n",
      "[CV] END bootstrap=False, max_depth=10, min_samples_leaf=2, min_samples_split=5, n_estimators=500; total time= 1.5min\n",
      "[CV] END bootstrap=False, max_depth=10, min_samples_leaf=2, min_samples_split=5, n_estimators=500; total time= 1.5min\n",
      "[CV] END bootstrap=False, max_depth=60, min_samples_leaf=1, min_samples_split=5, n_estimators=50; total time= 1.6min\n",
      "[CV] END bootstrap=False, max_depth=60, min_samples_leaf=1, min_samples_split=5, n_estimators=50; total time= 1.6min\n",
      "[CV] END bootstrap=False, max_depth=40, min_samples_leaf=4, min_samples_split=2, n_estimators=50; total time=  37.9s\n",
      "[CV] END bootstrap=False, max_depth=70, min_samples_leaf=2, min_samples_split=2, n_estimators=50; total time= 1.3min\n",
      "[CV] END bootstrap=False, max_depth=70, min_samples_leaf=2, min_samples_split=2, n_estimators=50; total time= 1.3min\n",
      "[CV] END bootstrap=False, max_depth=70, min_samples_leaf=2, min_samples_split=2, n_estimators=50; total time= 1.3min\n",
      "[CV] END bootstrap=False, max_depth=70, min_samples_leaf=2, min_samples_split=2, n_estimators=50; total time= 1.3min\n",
      "[CV] END bootstrap=False, max_depth=10, min_samples_leaf=2, min_samples_split=5, n_estimators=500; total time= 1.4min\n",
      "[CV] END bootstrap=False, max_depth=10, min_samples_leaf=2, min_samples_split=5, n_estimators=500; total time= 1.4min\n",
      "[CV] END bootstrap=False, max_depth=40, min_samples_leaf=4, min_samples_split=2, n_estimators=50; total time=  39.1s\n",
      "[CV] END bootstrap=False, max_depth=70, min_samples_leaf=2, min_samples_split=2, n_estimators=50; total time= 1.3min\n",
      "[CV] END bootstrap=False, max_depth=40, min_samples_leaf=4, min_samples_split=2, n_estimators=50; total time=  41.4s\n",
      "[CV] END bootstrap=False, max_depth=40, min_samples_leaf=4, min_samples_split=2, n_estimators=50; total time=  40.8s\n",
      "[CV] END bootstrap=False, max_depth=40, min_samples_leaf=4, min_samples_split=2, n_estimators=50; total time=  40.5s\n",
      "[CV] END bootstrap=False, max_depth=50, min_samples_leaf=1, min_samples_split=10, n_estimators=50; total time= 1.0min\n",
      "[CV] END bootstrap=False, max_depth=50, min_samples_leaf=1, min_samples_split=10, n_estimators=50; total time= 1.0min\n",
      "[CV] END bootstrap=False, max_depth=50, min_samples_leaf=1, min_samples_split=10, n_estimators=50; total time= 1.0min\n",
      "[CV] END bootstrap=False, max_depth=50, min_samples_leaf=1, min_samples_split=10, n_estimators=50; total time= 1.1min\n",
      "[CV] END bootstrap=False, max_depth=50, min_samples_leaf=1, min_samples_split=10, n_estimators=50; total time= 1.1min\n",
      "[CV] END bootstrap=False, max_depth=50, min_samples_leaf=4, min_samples_split=2, n_estimators=1000; total time=16.5min\n",
      "[CV] END bootstrap=False, max_depth=50, min_samples_leaf=4, min_samples_split=2, n_estimators=1000; total time=16.5min\n",
      "[CV] END bootstrap=False, max_depth=50, min_samples_leaf=4, min_samples_split=2, n_estimators=1000; total time=16.5min\n",
      "[CV] END bootstrap=False, max_depth=50, min_samples_leaf=4, min_samples_split=2, n_estimators=1000; total time=16.4min\n",
      "[CV] END bootstrap=False, max_depth=50, min_samples_leaf=4, min_samples_split=2, n_estimators=1000; total time=16.5min\n",
      "[CV] END bootstrap=False, max_depth=60, min_samples_leaf=1, min_samples_split=10, n_estimators=100; total time= 2.8min\n",
      "[CV] END bootstrap=False, max_depth=60, min_samples_leaf=1, min_samples_split=10, n_estimators=100; total time= 2.8min\n",
      "[CV] END bootstrap=False, max_depth=60, min_samples_leaf=1, min_samples_split=10, n_estimators=100; total time= 2.8min\n",
      "[CV] END bootstrap=False, max_depth=50, min_samples_leaf=4, min_samples_split=10, n_estimators=50; total time=  43.1s\n",
      "[CV] END bootstrap=False, max_depth=50, min_samples_leaf=4, min_samples_split=10, n_estimators=50; total time=  42.8s\n",
      "[CV] END bootstrap=False, max_depth=50, min_samples_leaf=4, min_samples_split=10, n_estimators=50; total time=  45.9s\n",
      "[CV] END bootstrap=False, max_depth=60, min_samples_leaf=1, min_samples_split=10, n_estimators=100; total time= 2.7min\n",
      "[CV] END bootstrap=False, max_depth=60, min_samples_leaf=1, min_samples_split=10, n_estimators=100; total time= 2.8min\n",
      "[CV] END bootstrap=False, max_depth=50, min_samples_leaf=4, min_samples_split=10, n_estimators=50; total time=  47.2s\n",
      "[CV] END bootstrap=False, max_depth=50, min_samples_leaf=4, min_samples_split=10, n_estimators=50; total time=  38.9s\n",
      "[CV] END bootstrap=False, max_depth=70, min_samples_leaf=1, min_samples_split=2, n_estimators=500; total time=21.5min\n",
      "[CV] END bootstrap=False, max_depth=70, min_samples_leaf=1, min_samples_split=2, n_estimators=500; total time=21.1min\n",
      "[CV] END bootstrap=False, max_depth=70, min_samples_leaf=1, min_samples_split=2, n_estimators=500; total time=21.1min\n",
      "[CV] END bootstrap=False, max_depth=70, min_samples_leaf=1, min_samples_split=2, n_estimators=500; total time=13.1min\n",
      "[CV] END bootstrap=False, max_depth=70, min_samples_leaf=1, min_samples_split=2, n_estimators=500; total time=13.1min\n"
     ]
    }
   ],
   "source": [
    "clf = RandomizedSearchCV(estimator=random_forest,\n",
    "                         param_distributions=hyperparameters,\n",
    "                         n_jobs=-1,\n",
    "                         cv=5,\n",
    "                         verbose=2)\n",
    "clf = clf.fit(x_train_tf, train_y)"
   ]
  },
  {
   "cell_type": "code",
   "execution_count": 6,
   "metadata": {},
   "outputs": [],
   "source": [
    "best_clf = clf.best_estimator_\n",
    "y_pred = best_clf.predict(x_test_tf)"
   ]
  },
  {
   "cell_type": "code",
   "execution_count": 7,
   "metadata": {},
   "outputs": [
    {
     "data": {
      "image/png": "[encoded data removed]",
      "text/plain": [
       "<Figure size 640x480 with 2 Axes>"
      ]
     },
     "metadata": {},
     "output_type": "display_data"
    }
   ],
   "source": [
    "matrix = confusion_matrix(test_y, y_pred)\n",
    "plt.figure()\n",
    "sns.heatmap(matrix, annot=True, fmt=\".3f\", linewidths=.5, square=True, cmap=\"Greens_r\")\n",
    "plt.ylabel('Actual class')\n",
    "plt.xlabel('Predicted class')\n",
    "plt.title('Random Forest', size=12)\n",
    "plt.show()"
   ]
  },
  {
   "cell_type": "code",
   "execution_count": 8,
   "metadata": {},
   "outputs": [
    {
     "name": "stdout",
     "output_type": "stream",
     "text": [
      "              precision    recall  f1-score   support\n",
      "\n",
      "           0       0.88      0.85      0.87      2495\n",
      "           1       0.86      0.88      0.87      2505\n",
      "\n",
      "    accuracy                           0.87      5000\n",
      "   macro avg       0.87      0.87      0.87      5000\n",
      "weighted avg       0.87      0.87      0.87      5000\n",
      "\n"
     ]
    }
   ],
   "source": [
    "metrics = classification_report(test_y, y_pred)\n",
    "print(metrics)"
   ]
  }
 ],
 "metadata": {
  "kernelspec": {
   "display_name": ".venv",
   "language": "python",
   "name": "python3"
  },
  "language_info": {
   "codemirror_mode": {
    "name": "ipython",
    "version": 3
   },
   "file_extension": ".py",
   "mimetype": "text/x-python",
   "name": "python",
   "nbconvert_exporter": "python",
   "pygments_lexer": "ipython3",
   "version": "3.9.13"
  },
  "orig_nbformat": 4
 },
 "nbformat": 4,
 "nbformat_minor": 2
}
