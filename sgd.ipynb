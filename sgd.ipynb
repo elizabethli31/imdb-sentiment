{
 "cells": [
  {
   "cell_type": "code",
   "execution_count": 8,
   "metadata": {},
   "outputs": [],
   "source": [
    "import pandas as pd\n",
    "import matplotlib.pyplot as plt\n",
    "import seaborn as sns\n",
    "from sklearn.model_selection import GridSearchCV\n",
    "from sklearn.linear_model import SGDClassifier\n",
    "from sklearn.metrics import confusion_matrix, classification_report\n",
    "from scipy.io import mmread"
   ]
  },
  {
   "cell_type": "code",
   "execution_count": 2,
   "metadata": {},
   "outputs": [],
   "source": [
    "test_csv = pd.read_csv('data/Test.csv')\n",
    "train_csv = pd.read_csv('data/Train.csv')\n",
    "\n",
    "train_y = train_csv['label']\n",
    "test_y = test_csv['label']\n",
    "\n",
    "x_train_tf = mmread('data/x_train_tf.mtx')\n",
    "x_test_tf = mmread('data/x_test_tf.mtx')"
   ]
  },
  {
   "cell_type": "code",
   "execution_count": 3,
   "metadata": {},
   "outputs": [],
   "source": [
    "loss = ['hinge', 'log', 'modified_huber', 'perceptron']\n",
    "learning_rates = ['constant', 'invscaling', 'adaptive', 'optimal']\n",
    "hyperparameters = dict(\n",
    "    loss=loss,\n",
    "    learning_rate=learning_rates\n",
    ")"
   ]
  },
  {
   "cell_type": "code",
   "execution_count": 4,
   "metadata": {},
   "outputs": [
    {
     "name": "stdout",
     "output_type": "stream",
     "text": [
      "Fitting 5 folds for each of 16 candidates, totalling 80 fits\n"
     ]
    },
    {
     "name": "stderr",
     "output_type": "stream",
     "text": [
      "/Users/elizabethli/cmsc/personal/.venv/lib/python3.9/site-packages/sklearn/linear_model/_stochastic_gradient.py:173: FutureWarning: The loss 'log' was deprecated in v1.1 and will be removed in version 1.3. Use `loss='log_loss'` which is equivalent.\n",
      "  warnings.warn(\n",
      "/Users/elizabethli/cmsc/personal/.venv/lib/python3.9/site-packages/sklearn/linear_model/_stochastic_gradient.py:173: FutureWarning: The loss 'log' was deprecated in v1.1 and will be removed in version 1.3. Use `loss='log_loss'` which is equivalent.\n",
      "  warnings.warn(\n",
      "/Users/elizabethli/cmsc/personal/.venv/lib/python3.9/site-packages/sklearn/linear_model/_stochastic_gradient.py:173: FutureWarning: The loss 'log' was deprecated in v1.1 and will be removed in version 1.3. Use `loss='log_loss'` which is equivalent.\n",
      "  warnings.warn(\n"
     ]
    },
    {
     "name": "stdout",
     "output_type": "stream",
     "text": [
      "[CV] END .................learning_rate=constant, loss=hinge; total time=   2.0s\n",
      "[CV] END .................learning_rate=constant, loss=hinge; total time=   2.2s\n",
      "[CV] END .................learning_rate=constant, loss=hinge; total time=   2.2s\n",
      "[CV] END .................learning_rate=constant, loss=hinge; total time=   2.2s\n",
      "[CV] END .................learning_rate=constant, loss=hinge; total time=   2.2s\n"
     ]
    },
    {
     "name": "stderr",
     "output_type": "stream",
     "text": [
      "/Users/elizabethli/cmsc/personal/.venv/lib/python3.9/site-packages/sklearn/linear_model/_stochastic_gradient.py:173: FutureWarning: The loss 'log' was deprecated in v1.1 and will be removed in version 1.3. Use `loss='log_loss'` which is equivalent.\n",
      "  warnings.warn(\n",
      "/Users/elizabethli/cmsc/personal/.venv/lib/python3.9/site-packages/sklearn/linear_model/_stochastic_gradient.py:173: FutureWarning: The loss 'log' was deprecated in v1.1 and will be removed in version 1.3. Use `loss='log_loss'` which is equivalent.\n",
      "  warnings.warn(\n"
     ]
    },
    {
     "name": "stdout",
     "output_type": "stream",
     "text": [
      "[CV] END ...................learning_rate=constant, loss=log; total time=   2.3s\n",
      "[CV] END ...................learning_rate=constant, loss=log; total time=   2.3s\n",
      "[CV] END ...................learning_rate=constant, loss=log; total time=   2.4s\n",
      "[CV] END ............learning_rate=constant, loss=perceptron; total time=   0.4s\n",
      "[CV] END ............learning_rate=constant, loss=perceptron; total time=   0.4s\n",
      "[CV] END ............learning_rate=constant, loss=perceptron; total time=   1.0s\n",
      "[CV] END ............learning_rate=constant, loss=perceptron; total time=   0.4s\n",
      "[CV] END ...................learning_rate=constant, loss=log; total time=   2.7s\n",
      "[CV] END ........learning_rate=constant, loss=modified_huber; total time=   2.6s\n",
      "[CV] END ........learning_rate=constant, loss=modified_huber; total time=   2.6s\n",
      "[CV] END ........learning_rate=constant, loss=modified_huber; total time=   2.6s\n",
      "[CV] END ...................learning_rate=constant, loss=log; total time=   2.7s\n",
      "[CV] END ........learning_rate=constant, loss=modified_huber; total time=   2.6s\n",
      "[CV] END ........learning_rate=constant, loss=modified_huber; total time=   2.6s\n",
      "[CV] END ............learning_rate=constant, loss=perceptron; total time=   0.4s\n"
     ]
    },
    {
     "name": "stderr",
     "output_type": "stream",
     "text": [
      "/Users/elizabethli/cmsc/personal/.venv/lib/python3.9/site-packages/sklearn/linear_model/_stochastic_gradient.py:173: FutureWarning: The loss 'log' was deprecated in v1.1 and will be removed in version 1.3. Use `loss='log_loss'` which is equivalent.\n",
      "  warnings.warn(\n",
      "/Users/elizabethli/cmsc/personal/.venv/lib/python3.9/site-packages/sklearn/linear_model/_stochastic_gradient.py:173: FutureWarning: The loss 'log' was deprecated in v1.1 and will be removed in version 1.3. Use `loss='log_loss'` which is equivalent.\n",
      "  warnings.warn(\n",
      "/Users/elizabethli/cmsc/personal/.venv/lib/python3.9/site-packages/sklearn/linear_model/_stochastic_gradient.py:173: FutureWarning: The loss 'log' was deprecated in v1.1 and will be removed in version 1.3. Use `loss='log_loss'` which is equivalent.\n",
      "  warnings.warn(\n"
     ]
    },
    {
     "name": "stdout",
     "output_type": "stream",
     "text": [
      "[CV] END .................learning_rate=invscaling, loss=log; total time=   0.6s\n",
      "[CV] END ...............learning_rate=invscaling, loss=hinge; total time=   0.8s\n",
      "[CV] END ...............learning_rate=invscaling, loss=hinge; total time=   0.8s\n",
      "[CV] END .................learning_rate=invscaling, loss=log; total time=   0.5s\n",
      "[CV] END ...............learning_rate=invscaling, loss=hinge; total time=   0.8s\n",
      "[CV] END .................learning_rate=invscaling, loss=log; total time=   0.5s\n",
      "[CV] END ...............learning_rate=invscaling, loss=hinge; total time=   0.8s\n",
      "[CV] END ...............learning_rate=invscaling, loss=hinge; total time=   0.8s\n"
     ]
    },
    {
     "name": "stderr",
     "output_type": "stream",
     "text": [
      "/Users/elizabethli/cmsc/personal/.venv/lib/python3.9/site-packages/sklearn/linear_model/_stochastic_gradient.py:173: FutureWarning: The loss 'log' was deprecated in v1.1 and will be removed in version 1.3. Use `loss='log_loss'` which is equivalent.\n",
      "  warnings.warn(\n",
      "/Users/elizabethli/cmsc/personal/.venv/lib/python3.9/site-packages/sklearn/linear_model/_stochastic_gradient.py:173: FutureWarning: The loss 'log' was deprecated in v1.1 and will be removed in version 1.3. Use `loss='log_loss'` which is equivalent.\n",
      "  warnings.warn(\n"
     ]
    },
    {
     "name": "stdout",
     "output_type": "stream",
     "text": [
      "[CV] END .................learning_rate=invscaling, loss=log; total time=   0.3s\n",
      "[CV] END .................learning_rate=invscaling, loss=log; total time=   0.5s\n",
      "[CV] END ..........learning_rate=invscaling, loss=perceptron; total time=   0.3s\n",
      "[CV] END ..........learning_rate=invscaling, loss=perceptron; total time=   0.4s\n",
      "[CV] END ..........learning_rate=invscaling, loss=perceptron; total time=   0.3s\n",
      "[CV] END ..........learning_rate=invscaling, loss=perceptron; total time=   0.3s\n",
      "[CV] END ..........learning_rate=invscaling, loss=perceptron; total time=   0.4s\n",
      "[CV] END ......learning_rate=invscaling, loss=modified_huber; total time=   2.5s\n",
      "[CV] END ......learning_rate=invscaling, loss=modified_huber; total time=   2.5s\n",
      "[CV] END ......learning_rate=invscaling, loss=modified_huber; total time=   2.4s\n",
      "[CV] END ......learning_rate=invscaling, loss=modified_huber; total time=   2.5s\n",
      "[CV] END ......learning_rate=invscaling, loss=modified_huber; total time=   2.5s\n"
     ]
    },
    {
     "name": "stderr",
     "output_type": "stream",
     "text": [
      "/Users/elizabethli/cmsc/personal/.venv/lib/python3.9/site-packages/sklearn/linear_model/_stochastic_gradient.py:173: FutureWarning: The loss 'log' was deprecated in v1.1 and will be removed in version 1.3. Use `loss='log_loss'` which is equivalent.\n",
      "  warnings.warn(\n",
      "/Users/elizabethli/cmsc/personal/.venv/lib/python3.9/site-packages/sklearn/linear_model/_stochastic_gradient.py:173: FutureWarning: The loss 'log' was deprecated in v1.1 and will be removed in version 1.3. Use `loss='log_loss'` which is equivalent.\n",
      "  warnings.warn(\n",
      "/Users/elizabethli/cmsc/personal/.venv/lib/python3.9/site-packages/sklearn/linear_model/_stochastic_gradient.py:173: FutureWarning: The loss 'log' was deprecated in v1.1 and will be removed in version 1.3. Use `loss='log_loss'` which is equivalent.\n",
      "  warnings.warn(\n"
     ]
    },
    {
     "name": "stdout",
     "output_type": "stream",
     "text": [
      "[CV] END .................learning_rate=adaptive, loss=hinge; total time=   3.3s\n",
      "[CV] END .................learning_rate=adaptive, loss=hinge; total time=   3.4s\n"
     ]
    },
    {
     "name": "stderr",
     "output_type": "stream",
     "text": [
      "/Users/elizabethli/cmsc/personal/.venv/lib/python3.9/site-packages/sklearn/linear_model/_stochastic_gradient.py:173: FutureWarning: The loss 'log' was deprecated in v1.1 and will be removed in version 1.3. Use `loss='log_loss'` which is equivalent.\n",
      "  warnings.warn(\n",
      "/Users/elizabethli/cmsc/personal/.venv/lib/python3.9/site-packages/sklearn/linear_model/_stochastic_gradient.py:173: FutureWarning: The loss 'log' was deprecated in v1.1 and will be removed in version 1.3. Use `loss='log_loss'` which is equivalent.\n",
      "  warnings.warn(\n"
     ]
    },
    {
     "name": "stdout",
     "output_type": "stream",
     "text": [
      "[CV] END .................learning_rate=adaptive, loss=hinge; total time=   3.4s\n",
      "[CV] END .................learning_rate=adaptive, loss=hinge; total time=   3.6s\n",
      "[CV] END .................learning_rate=adaptive, loss=hinge; total time=   3.7s\n",
      "[CV] END ...................learning_rate=adaptive, loss=log; total time=   4.1s\n",
      "[CV] END ...................learning_rate=adaptive, loss=log; total time=   4.1s\n",
      "[CV] END ...................learning_rate=adaptive, loss=log; total time=   4.2s\n",
      "[CV] END ............learning_rate=adaptive, loss=perceptron; total time=   1.6s\n",
      "[CV] END ...................learning_rate=adaptive, loss=log; total time=   4.3s\n",
      "[CV] END ...................learning_rate=adaptive, loss=log; total time=   4.2s\n",
      "[CV] END ........learning_rate=adaptive, loss=modified_huber; total time=   4.0s\n",
      "[CV] END ........learning_rate=adaptive, loss=modified_huber; total time=   3.5s\n",
      "[CV] END ........learning_rate=adaptive, loss=modified_huber; total time=   3.5s\n",
      "[CV] END ............learning_rate=adaptive, loss=perceptron; total time=   1.5s\n",
      "[CV] END ............learning_rate=adaptive, loss=perceptron; total time=   1.5s\n",
      "[CV] END ............learning_rate=adaptive, loss=perceptron; total time=   1.5s\n",
      "[CV] END ........learning_rate=adaptive, loss=modified_huber; total time=   3.3s\n",
      "[CV] END ........learning_rate=adaptive, loss=modified_huber; total time=   3.5s\n",
      "[CV] END ............learning_rate=adaptive, loss=perceptron; total time=   1.6s\n"
     ]
    },
    {
     "name": "stderr",
     "output_type": "stream",
     "text": [
      "/Users/elizabethli/cmsc/personal/.venv/lib/python3.9/site-packages/sklearn/linear_model/_stochastic_gradient.py:173: FutureWarning: The loss 'log' was deprecated in v1.1 and will be removed in version 1.3. Use `loss='log_loss'` which is equivalent.\n",
      "  warnings.warn(\n",
      "/Users/elizabethli/cmsc/personal/.venv/lib/python3.9/site-packages/sklearn/linear_model/_stochastic_gradient.py:173: FutureWarning: The loss 'log' was deprecated in v1.1 and will be removed in version 1.3. Use `loss='log_loss'` which is equivalent.\n",
      "  warnings.warn(\n",
      "/Users/elizabethli/cmsc/personal/.venv/lib/python3.9/site-packages/sklearn/linear_model/_stochastic_gradient.py:173: FutureWarning: The loss 'log' was deprecated in v1.1 and will be removed in version 1.3. Use `loss='log_loss'` which is equivalent.\n",
      "  warnings.warn(\n",
      "/Users/elizabethli/cmsc/personal/.venv/lib/python3.9/site-packages/sklearn/linear_model/_stochastic_gradient.py:173: FutureWarning: The loss 'log' was deprecated in v1.1 and will be removed in version 1.3. Use `loss='log_loss'` which is equivalent.\n",
      "  warnings.warn(\n",
      "/Users/elizabethli/cmsc/personal/.venv/lib/python3.9/site-packages/sklearn/linear_model/_stochastic_gradient.py:173: FutureWarning: The loss 'log' was deprecated in v1.1 and will be removed in version 1.3. Use `loss='log_loss'` which is equivalent.\n",
      "  warnings.warn(\n"
     ]
    },
    {
     "name": "stdout",
     "output_type": "stream",
     "text": [
      "[CV] END ..................learning_rate=optimal, loss=hinge; total time=   0.8s\n",
      "[CV] END ..................learning_rate=optimal, loss=hinge; total time=   0.7s\n",
      "[CV] END ..................learning_rate=optimal, loss=hinge; total time=   0.7s\n",
      "[CV] END ....................learning_rate=optimal, loss=log; total time=   0.6s\n",
      "[CV] END ..................learning_rate=optimal, loss=hinge; total time=   0.8s\n",
      "[CV] END ....................learning_rate=optimal, loss=log; total time=   0.6s\n",
      "[CV] END ..................learning_rate=optimal, loss=hinge; total time=   0.8s\n",
      "[CV] END ....................learning_rate=optimal, loss=log; total time=   0.6s\n",
      "[CV] END ....................learning_rate=optimal, loss=log; total time=   0.5s\n",
      "[CV] END ....................learning_rate=optimal, loss=log; total time=   0.5s\n",
      "[CV] END .............learning_rate=optimal, loss=perceptron; total time=   0.6s\n",
      "[CV] END .............learning_rate=optimal, loss=perceptron; total time=   0.7s\n",
      "[CV] END .........learning_rate=optimal, loss=modified_huber; total time=   0.9s\n",
      "[CV] END .............learning_rate=optimal, loss=perceptron; total time=   0.7s\n",
      "[CV] END .........learning_rate=optimal, loss=modified_huber; total time=   0.9s\n",
      "[CV] END .........learning_rate=optimal, loss=modified_huber; total time=   0.9s\n",
      "[CV] END .........learning_rate=optimal, loss=modified_huber; total time=   0.9s\n",
      "[CV] END .........learning_rate=optimal, loss=modified_huber; total time=   0.9s\n",
      "[CV] END .............learning_rate=optimal, loss=perceptron; total time=   0.3s\n",
      "[CV] END .............learning_rate=optimal, loss=perceptron; total time=   0.2s\n"
     ]
    }
   ],
   "source": [
    "model = GridSearchCV(estimator=SGDClassifier(eta0=0.01),\n",
    "                     param_grid=hyperparameters,\n",
    "                     n_jobs=-1,\n",
    "                     cv=5,\n",
    "                     verbose=2)\n",
    "model = model.fit(x_train_tf, train_y)"
   ]
  },
  {
   "cell_type": "code",
   "execution_count": 5,
   "metadata": {},
   "outputs": [],
   "source": [
    "best_clf = model.best_estimator_\n",
    "y_pred = best_clf.predict(x_test_tf)"
   ]
  },
  {
   "cell_type": "code",
   "execution_count": 6,
   "metadata": {},
   "outputs": [
    {
     "data": {
      "image/png": "[encoded data removed]",
      "text/plain": [
       "<Figure size 640x480 with 2 Axes>"
      ]
     },
     "metadata": {},
     "output_type": "display_data"
    }
   ],
   "source": [
    "matrix = confusion_matrix(test_y, y_pred)\n",
    "plt.figure()\n",
    "sns.heatmap(matrix, annot=True, fmt=\".3f\", linewidths=.5, square=True, cmap=\"Greens_r\")\n",
    "plt.ylabel('Actual class')\n",
    "plt.xlabel('Predicted class')\n",
    "plt.title('Stochastic Gradient Descent', size=12)\n",
    "plt.show()"
   ]
  },
  {
   "cell_type": "code",
   "execution_count": 9,
   "metadata": {},
   "outputs": [
    {
     "name": "stdout",
     "output_type": "stream",
     "text": [
      "              precision    recall  f1-score   support\n",
      "\n",
      "           0       0.91      0.89      0.90      2495\n",
      "           1       0.89      0.91      0.90      2505\n",
      "\n",
      "    accuracy                           0.90      5000\n",
      "   macro avg       0.90      0.90      0.90      5000\n",
      "weighted avg       0.90      0.90      0.90      5000\n",
      "\n"
     ]
    }
   ],
   "source": [
    "metrics = classification_report(test_y, y_pred)\n",
    "print(metrics)"
   ]
  }
 ],
 "metadata": {
  "kernelspec": {
   "display_name": ".venv",
   "language": "python",
   "name": "python3"
  },
  "language_info": {
   "codemirror_mode": {
    "name": "ipython",
    "version": 3
   },
   "file_extension": ".py",
   "mimetype": "text/x-python",
   "name": "python",
   "nbconvert_exporter": "python",
   "pygments_lexer": "ipython3",
   "version": "3.9.13"
  },
  "orig_nbformat": 4
 },
 "nbformat": 4,
 "nbformat_minor": 2
}
