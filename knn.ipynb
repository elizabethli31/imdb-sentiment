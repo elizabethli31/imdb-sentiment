{
 "cells": [
  {
   "cell_type": "code",
   "execution_count": 7,
   "metadata": {},
   "outputs": [],
   "source": [
    "import pandas as pd\n",
    "import matplotlib.pyplot as plt\n",
    "import seaborn as sns\n",
    "from sklearn.neighbors import KNeighborsClassifier\n",
    "from sklearn.model_selection import RandomizedSearchCV\n",
    "from sklearn.metrics import confusion_matrix, classification_report\n",
    "from scipy.io import mmread"
   ]
  },
  {
   "cell_type": "code",
   "execution_count": 2,
   "metadata": {},
   "outputs": [],
   "source": [
    "test_csv = pd.read_csv('data/Test.csv')\n",
    "train_csv = pd.read_csv('data/Train.csv')\n",
    "\n",
    "train_y = train_csv['label']\n",
    "test_y = test_csv['label']\n",
    "\n",
    "x_train_tf = mmread('data/x_train_tf.mtx')\n",
    "x_test_tf = mmread('data/x_test_tf.mtx')"
   ]
  },
  {
   "cell_type": "code",
   "execution_count": 5,
   "metadata": {},
   "outputs": [],
   "source": [
    "knn = KNeighborsClassifier()\n",
    "leaf_size = list(range(1,30))\n",
    "n_neighbors = list(range(1,30))\n",
    "p=[1,2]\n",
    "\n",
    "hyperparameters = dict(\n",
    "    leaf_size=leaf_size,\n",
    "    n_neighbors=n_neighbors,\n",
    "    p=p\n",
    ")"
   ]
  },
  {
   "cell_type": "code",
   "execution_count": 8,
   "metadata": {},
   "outputs": [
    {
     "name": "stdout",
     "output_type": "stream",
     "text": [
      "Fitting 5 folds for each of 10 candidates, totalling 50 fits\n",
      "[CV] END ....................leaf_size=9, n_neighbors=3, p=2; total time=  48.9s\n",
      "[CV] END ....................leaf_size=9, n_neighbors=3, p=2; total time=  48.9s\n",
      "[CV] END ....................leaf_size=9, n_neighbors=3, p=2; total time=  49.0s\n",
      "[CV] END ....................leaf_size=9, n_neighbors=3, p=2; total time=  50.2s\n",
      "[CV] END ....................leaf_size=9, n_neighbors=3, p=2; total time=  23.7s\n",
      "[CV] END ..................leaf_size=22, n_neighbors=17, p=2; total time=  25.4s\n",
      "[CV] END ..................leaf_size=22, n_neighbors=17, p=2; total time=  25.4s\n",
      "[CV] END ..................leaf_size=22, n_neighbors=17, p=2; total time=  27.4s\n",
      "[CV] END ..................leaf_size=22, n_neighbors=17, p=2; total time=  26.0s\n",
      "[CV] END ..................leaf_size=22, n_neighbors=17, p=2; total time=  27.1s\n",
      "[CV] END ....................leaf_size=6, n_neighbors=4, p=2; total time=  27.6s\n",
      "[CV] END ....................leaf_size=6, n_neighbors=4, p=2; total time=  29.1s\n",
      "[CV] END ....................leaf_size=6, n_neighbors=4, p=2; total time=  22.0s\n",
      "[CV] END ....................leaf_size=6, n_neighbors=4, p=2; total time=  21.0s\n",
      "[CV] END ....................leaf_size=6, n_neighbors=4, p=2; total time=  20.7s\n",
      "[CV] END ..................leaf_size=23, n_neighbors=16, p=2; total time=  19.4s\n",
      "[CV] END ..................leaf_size=23, n_neighbors=16, p=2; total time=  27.5s\n",
      "[CV] END ..................leaf_size=23, n_neighbors=16, p=2; total time=  28.1s\n",
      "[CV] END ..................leaf_size=23, n_neighbors=16, p=2; total time=  29.0s\n",
      "[CV] END ..................leaf_size=23, n_neighbors=16, p=2; total time=  29.4s\n",
      "[CV] END ..................leaf_size=16, n_neighbors=28, p=2; total time=  25.0s\n",
      "[CV] END ..................leaf_size=16, n_neighbors=28, p=2; total time=  24.4s\n",
      "[CV] END ..................leaf_size=16, n_neighbors=28, p=2; total time=  24.7s\n",
      "[CV] END ..................leaf_size=16, n_neighbors=28, p=2; total time=  23.6s\n",
      "[CV] END ..................leaf_size=16, n_neighbors=28, p=2; total time=  27.6s\n",
      "[CV] END ..................leaf_size=15, n_neighbors=28, p=2; total time=  27.6s\n",
      "[CV] END ..................leaf_size=15, n_neighbors=28, p=2; total time=  29.4s\n",
      "[CV] END ..................leaf_size=15, n_neighbors=28, p=2; total time=  28.0s\n",
      "[CV] END ..................leaf_size=15, n_neighbors=28, p=2; total time=  23.4s\n",
      "[CV] END ..................leaf_size=15, n_neighbors=28, p=2; total time=  24.1s\n",
      "[CV] END ...................leaf_size=24, n_neighbors=4, p=1; total time= 4.0min\n",
      "[CV] END ...................leaf_size=24, n_neighbors=4, p=1; total time= 4.0min\n",
      "[CV] END ...................leaf_size=24, n_neighbors=4, p=1; total time= 4.0min\n",
      "[CV] END ...................leaf_size=24, n_neighbors=4, p=1; total time= 4.0min\n",
      "[CV] END ...................leaf_size=24, n_neighbors=4, p=1; total time= 4.0min\n",
      "[CV] END ....................leaf_size=4, n_neighbors=7, p=1; total time= 4.0min\n",
      "[CV] END ....................leaf_size=4, n_neighbors=7, p=1; total time= 4.0min\n",
      "[CV] END ....................leaf_size=4, n_neighbors=7, p=1; total time= 4.0min\n",
      "[CV] END ....................leaf_size=4, n_neighbors=7, p=1; total time= 4.0min\n",
      "[CV] END ....................leaf_size=4, n_neighbors=7, p=1; total time= 4.0min\n",
      "[CV] END ..................leaf_size=23, n_neighbors=27, p=1; total time= 4.0min\n",
      "[CV] END ..................leaf_size=23, n_neighbors=27, p=1; total time= 4.0min\n",
      "[CV] END ...................leaf_size=23, n_neighbors=3, p=2; total time=  23.5s\n",
      "[CV] END ...................leaf_size=23, n_neighbors=3, p=2; total time=  24.7s\n",
      "[CV] END ...................leaf_size=23, n_neighbors=3, p=2; total time=  25.3s\n",
      "[CV] END ...................leaf_size=23, n_neighbors=3, p=2; total time=  25.5s\n",
      "[CV] END ...................leaf_size=23, n_neighbors=3, p=2; total time=  23.2s\n",
      "[CV] END ..................leaf_size=23, n_neighbors=27, p=1; total time= 3.5min\n",
      "[CV] END ..................leaf_size=23, n_neighbors=27, p=1; total time= 3.6min\n",
      "[CV] END ..................leaf_size=23, n_neighbors=27, p=1; total time= 3.4min\n"
     ]
    }
   ],
   "source": [
    "clf = RandomizedSearchCV(\n",
    "    estimator=knn,\n",
    "    param_distributions=hyperparameters,\n",
    "    n_jobs=4,\n",
    "    cv=5,\n",
    "    verbose=2\n",
    ")\n",
    "clf = clf.fit(x_train_tf, train_y)"
   ]
  },
  {
   "cell_type": "code",
   "execution_count": 9,
   "metadata": {},
   "outputs": [],
   "source": [
    "best_clf = clf.best_estimator_\n",
    "y_pred = best_clf.predict(x_test_tf)"
   ]
  },
  {
   "cell_type": "code",
   "execution_count": 10,
   "metadata": {},
   "outputs": [
    {
     "data": {
      "image/png": "[encoded data removed]",
      "text/plain": [
       "<Figure size 640x480 with 2 Axes>"
      ]
     },
     "metadata": {},
     "output_type": "display_data"
    }
   ],
   "source": [
    "matrix = confusion_matrix(test_y, y_pred)\n",
    "plt.figure()\n",
    "sns.heatmap(matrix, annot=True, fmt=\".3f\", linewidths=.5, square=True, cmap=\"Greens_r\")\n",
    "plt.ylabel('Actual class')\n",
    "plt.xlabel('Predicted class')\n",
    "plt.title('KNN', size=12)\n",
    "plt.show()"
   ]
  },
  {
   "cell_type": "code",
   "execution_count": 11,
   "metadata": {},
   "outputs": [
    {
     "name": "stdout",
     "output_type": "stream",
     "text": [
      "              precision    recall  f1-score   support\n",
      "\n",
      "           0       0.80      0.79      0.80      2495\n",
      "           1       0.80      0.81      0.80      2505\n",
      "\n",
      "    accuracy                           0.80      5000\n",
      "   macro avg       0.80      0.80      0.80      5000\n",
      "weighted avg       0.80      0.80      0.80      5000\n",
      "\n"
     ]
    }
   ],
   "source": [
    "metrics = classification_report(test_y, y_pred)\n",
    "print(metrics)"
   ]
  }
 ],
 "metadata": {
  "kernelspec": {
   "display_name": ".venv",
   "language": "python",
   "name": "python3"
  },
  "language_info": {
   "codemirror_mode": {
    "name": "ipython",
    "version": 3
   },
   "file_extension": ".py",
   "mimetype": "text/x-python",
   "name": "python",
   "nbconvert_exporter": "python",
   "pygments_lexer": "ipython3",
   "version": "3.9.13"
  },
  "orig_nbformat": 4
 },
 "nbformat": 4,
 "nbformat_minor": 2
}
